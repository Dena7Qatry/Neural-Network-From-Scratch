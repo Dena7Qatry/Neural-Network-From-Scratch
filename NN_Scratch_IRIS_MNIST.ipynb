{
  "cells": [
    {
      "cell_type": "markdown",
      "metadata": {
        "id": "view-in-github",
        "colab_type": "text"
      },
      "source": [
        "<a href=\"https://colab.research.google.com/github/Dena7Qatry/Neural-Network-From-Scratch/blob/main/NN_Scratch_IRIS_MNIST.ipynb\" target=\"_parent\"><img src=\"https://colab.research.google.com/assets/colab-badge.svg\" alt=\"Open In Colab\"/></a>"
      ]
    },
    {
      "cell_type": "markdown",
      "id": "060a6423",
      "metadata": {
        "id": "060a6423"
      },
      "source": [
        "## Create a Neural Network In Python"
      ]
    },
    {
      "cell_type": "markdown",
      "id": "44262c28",
      "metadata": {
        "id": "44262c28"
      },
      "source": [
        "bold text![image-3.png](attachment:image-3.png)"
      ]
    },
    {
      "cell_type": "markdown",
      "id": "a4fb3062",
      "metadata": {
        "id": "a4fb3062"
      },
      "source": [
        "![image.png](attachment:image.png)"
      ]
    },
    {
      "cell_type": "code",
      "execution_count": null,
      "id": "9e2d06c1",
      "metadata": {
        "id": "9e2d06c1"
      },
      "outputs": [],
      "source": [
        "import numpy as np\n",
        "import pandas as pd\n",
        "import matplotlib.pyplot as plt\n",
        "import sklearn\n",
        "from sklearn import datasets\n",
        "from sklearn.model_selection import train_test_split\n",
        "import seaborn as sns #statistical data visualization\n"
      ]
    },
    {
      "cell_type": "markdown",
      "source": [
        "# Initialization\n",
        "Create and initialize the parameters of the 1-layer neural network."
      ],
      "metadata": {
        "id": "OomJQcol7loO"
      },
      "id": "OomJQcol7loO"
    },
    {
      "cell_type": "code",
      "execution_count": null,
      "id": "7461c2e1",
      "metadata": {
        "id": "7461c2e1"
      },
      "outputs": [],
      "source": [
        "def initialize_parameters(n_x, n_h, n_y):\n",
        " \"\"\"\n",
        "    Argument:\n",
        "    n_x -- size of the input layer\n",
        "    n_h -- size of the hidden layer\n",
        "    n_y -- size of the output layer\n",
        "\n",
        "    Returns:\n",
        "    parameters -- python dictionary containing your parameters:\n",
        "                    W1 -- weight matrix of shape (n_h, n_x)\n",
        "                    b1 -- bias vector of shape (n_h, 1)\n",
        "                    W2 -- weight matrix of shape (n_y, n_h)\n",
        "                    b2 -- bias vector of shape (n_y, 1)\n",
        "    \"\"\"\n",
        " np.random.seed(1)\n",
        " W1 = np.random.randn(n_h , n_x) * 0.01\n",
        " b1 = np.zeros([n_h,1])\n",
        " W2 = np.random.randn(n_y , n_h) * 0.01\n",
        " b2 = np.zeros([n_y,1])\n",
        "\n",
        " parameters = {\"W1\": W1,\n",
        "               \"b1\": b1,\n",
        "               \"W2\": W2,\n",
        "               \"b2\": b2}\n",
        " return parameters\n",
        "\n"
      ]
    },
    {
      "cell_type": "markdown",
      "source": [
        "# forward_propagation"
      ],
      "metadata": {
        "id": "13J2vjwzBtge"
      },
      "id": "13J2vjwzBtge"
    },
    {
      "cell_type": "markdown",
      "source": [
        "Build activation sigmoid function:"
      ],
      "metadata": {
        "id": "u2Sm9HGZF3aQ"
      },
      "id": "u2Sm9HGZF3aQ"
    },
    {
      "cell_type": "code",
      "source": [
        "def sigmoid(Z):\n",
        "  A = 1/(1+np.exp(-Z))\n",
        "  cache = Z\n",
        "  return A, cache\n"
      ],
      "metadata": {
        "id": "aGh4A6LPF9kY"
      },
      "id": "aGh4A6LPF9kY",
      "execution_count": null,
      "outputs": []
    },
    {
      "cell_type": "code",
      "execution_count": null,
      "id": "fe57ea2e",
      "metadata": {
        "id": "fe57ea2e"
      },
      "outputs": [],
      "source": [
        "def forward_propagation(X,parameters):\n",
        "  \"\"\"\n",
        "    X is  input data of size (n_x, no)\n",
        "    parameters is a dictionary containing the output of initialization function(parameters)\n",
        "   Returns:\n",
        "    A2 is  The sigmoid output of the second activation\n",
        "    cache is a dictionary containing \"Z1\", \"A1\", \"Z2\" and \"A2\"\n",
        "  \"\"\"\n",
        "    # Get  each parameter from the dictionary \"parameters\"\n",
        "  W1= parameters['W1']\n",
        "  b1= parameters['b1']\n",
        "  W2= parameters['W2']\n",
        "  b2= parameters['b2']\n",
        "  Z1 = np.dot(W1, X) + b1\n",
        "  A1,c = sigmoid(Z1)\n",
        "  Z2 = np.dot(W2 , A1) + b2\n",
        "  A2,c2 = sigmoid(Z2)\n",
        "  cache ={\"Z1\":Z1,\n",
        "          \"A1\":A1,\n",
        "          \"Z2\":Z2,\n",
        "          \"A2\":A2}\n",
        "\n",
        "  return A2,cache\n"
      ]
    },
    {
      "cell_type": "markdown",
      "source": [
        "# Backpropagation:"
      ],
      "metadata": {
        "id": "_Gk45FnZLeNu"
      },
      "id": "_Gk45FnZLeNu"
    },
    {
      "cell_type": "code",
      "execution_count": null,
      "id": "b47c1af9",
      "metadata": {
        "id": "b47c1af9"
      },
      "outputs": [],
      "source": [
        "def backward_propagation(parameters , cache , X  , Y):\n",
        "  n_samples = X.shape[1]\n",
        "# get W1 and W2 from the dictionary \"parameters\".\n",
        "  W1= parameters['W1']\n",
        "  W2= parameters['W2']\n",
        "# get A1 and A2 from dictionary \"cache\".\n",
        "  A1 = cache ['A1']\n",
        "  A2 = cache ['A2']\n",
        "  dZ2 = A2 - Y                   #output-target\n",
        "  dW2 = 1/n_samples* np.dot(dZ2 , A1.T)\n",
        "  db2 = 1/n_samples * np.sum(dZ2 , axis = 1)\n",
        "  dZ1 = np.dot(W2.T , dZ2) * (1 - np.power(A1,2))\n",
        "  dW1 = 1/n_samples* np.dot( dZ1 , X.T)\n",
        "  db1 = 1/n_samples * np.sum(dZ1 , axis = 1)\n",
        "  db1=np.reshape(db1, (-1,1))\n",
        "  grads = {\"dW1\": dW1,\n",
        "           \"db1\": db1,\n",
        "           \"dW2\": dW2,\n",
        "           \"db2\": db2}\n",
        "\n",
        "  return grads\n"
      ]
    },
    {
      "cell_type": "markdown",
      "source": [
        "# Update Parameters:"
      ],
      "metadata": {
        "id": "4Q43HNhrNbQP"
      },
      "id": "4Q43HNhrNbQP"
    },
    {
      "cell_type": "code",
      "execution_count": null,
      "id": "61b11360",
      "metadata": {
        "id": "61b11360"
      },
      "outputs": [],
      "source": [
        "def update_parameters(parameters, grads, learning_rate):\n",
        "  W1=parameters['W1']\n",
        "  W2=parameters['W2']\n",
        "  b1=parameters['b1']\n",
        "  b2=parameters['b2']\n",
        "  dW1=grads['dW1']\n",
        "  dW2=grads['dW2']\n",
        "  db1=grads['db1']\n",
        "  db2=grads['db2']\n",
        "  W1=W1-learning_rate*dW1\n",
        "  W2=W2-learning_rate*dW2\n",
        "  b1=b1-learning_rate*db1\n",
        "  b2=b2\n",
        "  parameters = {\"W1\": W1,\n",
        "               \"b1\": b1,\n",
        "               \"W2\": W2,\n",
        "               \"b2\": b2}\n",
        "  return parameters"
      ]
    },
    {
      "cell_type": "markdown",
      "source": [
        "# Build a neural network model: nn_1hidden_model()."
      ],
      "metadata": {
        "id": "bznsKixjNpy0"
      },
      "id": "bznsKixjNpy0"
    },
    {
      "cell_type": "code",
      "execution_count": null,
      "id": "cee362c0",
      "metadata": {
        "id": "cee362c0"
      },
      "outputs": [],
      "source": [
        "def nn_1hidden_model(X, Y, n_x, n_y,n_h, n_iteration):\n",
        " parameters = initialize_parameters(n_x, n_h, n_y)\n",
        " for i in range(0, n_iteration):\n",
        "     A2, cache= forward_propagation(X,parameters)\n",
        "     grads = backward_propagation(parameters, cache, X, Y)\n",
        "     parameters = update_parameters(parameters, grads, learning_rate = 1.1)\n",
        "\n",
        " return parameters"
      ]
    },
    {
      "cell_type": "code",
      "source": [
        "#Predict the model within a threshold\n",
        "def predict_1hidden_model(parameters, X):\n",
        " Y_prediction = np.zeros((1, X.shape[1]))\n",
        " A2, cache = forward_propagation(X, parameters)\n",
        " Y_prediction= (A2 > 0.5)\n",
        " return Y_prediction\n",
        ""
      ],
      "metadata": {
        "id": "lDzGmQJqkEtZ"
      },
      "id": "lDzGmQJqkEtZ",
      "execution_count": null,
      "outputs": []
    },
    {
      "cell_type": "markdown",
      "id": "b2d01c92",
      "metadata": {
        "id": "b2d01c92"
      },
      "source": [
        "## Test your model on IRIS  dataset and MNIST Dataset"
      ]
    },
    {
      "cell_type": "markdown",
      "source": [
        "# IRIS dataset:"
      ],
      "metadata": {
        "id": "g8dHj5iufEWK"
      },
      "id": "g8dHj5iufEWK"
    },
    {
      "cell_type": "code",
      "execution_count": null,
      "id": "bd4fece0",
      "metadata": {
        "id": "bd4fece0",
        "colab": {
          "base_uri": "https://localhost:8080/",
          "height": 206
        },
        "outputId": "cd40bfa4-e9ee-4c48-f47f-a0b3a718de4d"
      },
      "outputs": [
        {
          "output_type": "execute_result",
          "data": {
            "text/plain": [
              "   sepal length (cm)  sepal width (cm)  petal length (cm)  petal width (cm)  \\\n",
              "0                5.1               3.5                1.4               0.2   \n",
              "1                4.9               3.0                1.4               0.2   \n",
              "2                4.7               3.2                1.3               0.2   \n",
              "3                4.6               3.1                1.5               0.2   \n",
              "4                5.0               3.6                1.4               0.2   \n",
              "\n",
              "   target  \n",
              "0       0  \n",
              "1       0  \n",
              "2       0  \n",
              "3       0  \n",
              "4       0  "
            ],
            "text/html": [
              "\n",
              "  <div id=\"df-7f629fc4-d9fe-412d-a17f-afcfbeab0721\">\n",
              "    <div class=\"colab-df-container\">\n",
              "      <div>\n",
              "<style scoped>\n",
              "    .dataframe tbody tr th:only-of-type {\n",
              "        vertical-align: middle;\n",
              "    }\n",
              "\n",
              "    .dataframe tbody tr th {\n",
              "        vertical-align: top;\n",
              "    }\n",
              "\n",
              "    .dataframe thead th {\n",
              "        text-align: right;\n",
              "    }\n",
              "</style>\n",
              "<table border=\"1\" class=\"dataframe\">\n",
              "  <thead>\n",
              "    <tr style=\"text-align: right;\">\n",
              "      <th></th>\n",
              "      <th>sepal length (cm)</th>\n",
              "      <th>sepal width (cm)</th>\n",
              "      <th>petal length (cm)</th>\n",
              "      <th>petal width (cm)</th>\n",
              "      <th>target</th>\n",
              "    </tr>\n",
              "  </thead>\n",
              "  <tbody>\n",
              "    <tr>\n",
              "      <th>0</th>\n",
              "      <td>5.1</td>\n",
              "      <td>3.5</td>\n",
              "      <td>1.4</td>\n",
              "      <td>0.2</td>\n",
              "      <td>0</td>\n",
              "    </tr>\n",
              "    <tr>\n",
              "      <th>1</th>\n",
              "      <td>4.9</td>\n",
              "      <td>3.0</td>\n",
              "      <td>1.4</td>\n",
              "      <td>0.2</td>\n",
              "      <td>0</td>\n",
              "    </tr>\n",
              "    <tr>\n",
              "      <th>2</th>\n",
              "      <td>4.7</td>\n",
              "      <td>3.2</td>\n",
              "      <td>1.3</td>\n",
              "      <td>0.2</td>\n",
              "      <td>0</td>\n",
              "    </tr>\n",
              "    <tr>\n",
              "      <th>3</th>\n",
              "      <td>4.6</td>\n",
              "      <td>3.1</td>\n",
              "      <td>1.5</td>\n",
              "      <td>0.2</td>\n",
              "      <td>0</td>\n",
              "    </tr>\n",
              "    <tr>\n",
              "      <th>4</th>\n",
              "      <td>5.0</td>\n",
              "      <td>3.6</td>\n",
              "      <td>1.4</td>\n",
              "      <td>0.2</td>\n",
              "      <td>0</td>\n",
              "    </tr>\n",
              "  </tbody>\n",
              "</table>\n",
              "</div>\n",
              "      <button class=\"colab-df-convert\" onclick=\"convertToInteractive('df-7f629fc4-d9fe-412d-a17f-afcfbeab0721')\"\n",
              "              title=\"Convert this dataframe to an interactive table.\"\n",
              "              style=\"display:none;\">\n",
              "        \n",
              "  <svg xmlns=\"http://www.w3.org/2000/svg\" height=\"24px\"viewBox=\"0 0 24 24\"\n",
              "       width=\"24px\">\n",
              "    <path d=\"M0 0h24v24H0V0z\" fill=\"none\"/>\n",
              "    <path d=\"M18.56 5.44l.94 2.06.94-2.06 2.06-.94-2.06-.94-.94-2.06-.94 2.06-2.06.94zm-11 1L8.5 8.5l.94-2.06 2.06-.94-2.06-.94L8.5 2.5l-.94 2.06-2.06.94zm10 10l.94 2.06.94-2.06 2.06-.94-2.06-.94-.94-2.06-.94 2.06-2.06.94z\"/><path d=\"M17.41 7.96l-1.37-1.37c-.4-.4-.92-.59-1.43-.59-.52 0-1.04.2-1.43.59L10.3 9.45l-7.72 7.72c-.78.78-.78 2.05 0 2.83L4 21.41c.39.39.9.59 1.41.59.51 0 1.02-.2 1.41-.59l7.78-7.78 2.81-2.81c.8-.78.8-2.07 0-2.86zM5.41 20L4 18.59l7.72-7.72 1.47 1.35L5.41 20z\"/>\n",
              "  </svg>\n",
              "      </button>\n",
              "      \n",
              "  <style>\n",
              "    .colab-df-container {\n",
              "      display:flex;\n",
              "      flex-wrap:wrap;\n",
              "      gap: 12px;\n",
              "    }\n",
              "\n",
              "    .colab-df-convert {\n",
              "      background-color: #E8F0FE;\n",
              "      border: none;\n",
              "      border-radius: 50%;\n",
              "      cursor: pointer;\n",
              "      display: none;\n",
              "      fill: #1967D2;\n",
              "      height: 32px;\n",
              "      padding: 0 0 0 0;\n",
              "      width: 32px;\n",
              "    }\n",
              "\n",
              "    .colab-df-convert:hover {\n",
              "      background-color: #E2EBFA;\n",
              "      box-shadow: 0px 1px 2px rgba(60, 64, 67, 0.3), 0px 1px 3px 1px rgba(60, 64, 67, 0.15);\n",
              "      fill: #174EA6;\n",
              "    }\n",
              "\n",
              "    [theme=dark] .colab-df-convert {\n",
              "      background-color: #3B4455;\n",
              "      fill: #D2E3FC;\n",
              "    }\n",
              "\n",
              "    [theme=dark] .colab-df-convert:hover {\n",
              "      background-color: #434B5C;\n",
              "      box-shadow: 0px 1px 3px 1px rgba(0, 0, 0, 0.15);\n",
              "      filter: drop-shadow(0px 1px 2px rgba(0, 0, 0, 0.3));\n",
              "      fill: #FFFFFF;\n",
              "    }\n",
              "  </style>\n",
              "\n",
              "      <script>\n",
              "        const buttonEl =\n",
              "          document.querySelector('#df-7f629fc4-d9fe-412d-a17f-afcfbeab0721 button.colab-df-convert');\n",
              "        buttonEl.style.display =\n",
              "          google.colab.kernel.accessAllowed ? 'block' : 'none';\n",
              "\n",
              "        async function convertToInteractive(key) {\n",
              "          const element = document.querySelector('#df-7f629fc4-d9fe-412d-a17f-afcfbeab0721');\n",
              "          const dataTable =\n",
              "            await google.colab.kernel.invokeFunction('convertToInteractive',\n",
              "                                                     [key], {});\n",
              "          if (!dataTable) return;\n",
              "\n",
              "          const docLinkHtml = 'Like what you see? Visit the ' +\n",
              "            '<a target=\"_blank\" href=https://colab.research.google.com/notebooks/data_table.ipynb>data table notebook</a>'\n",
              "            + ' to learn more about interactive tables.';\n",
              "          element.innerHTML = '';\n",
              "          dataTable['output_type'] = 'display_data';\n",
              "          await google.colab.output.renderOutput(dataTable, element);\n",
              "          const docLink = document.createElement('div');\n",
              "          docLink.innerHTML = docLinkHtml;\n",
              "          element.appendChild(docLink);\n",
              "        }\n",
              "      </script>\n",
              "    </div>\n",
              "  </div>\n",
              "  "
            ]
          },
          "metadata": {},
          "execution_count": 9
        }
      ],
      "source": [
        "raw_iris = datasets.load_iris()\n",
        "iris = pd.DataFrame(raw_iris.data,\n",
        "                    columns = raw_iris.feature_names)\n",
        "iris['target']=pd.Series(raw_iris.target)\n",
        "iris.head()\n"
      ]
    },
    {
      "cell_type": "code",
      "source": [
        "#drop duplicates\n",
        "iris.drop_duplicates(inplace=True)\n",
        "print('duplicate values -> {}'.format(iris.duplicated().sum()))\n",
        "# Drop the null values\n",
        "iris.dropna(inplace=True)\n",
        "iris.isnull().sum()"
      ],
      "metadata": {
        "colab": {
          "base_uri": "https://localhost:8080/"
        },
        "id": "Cbk7w8nxxQIL",
        "outputId": "37884fd6-f27b-4d94-e38c-dc4ed90f9232"
      },
      "id": "Cbk7w8nxxQIL",
      "execution_count": null,
      "outputs": [
        {
          "output_type": "stream",
          "name": "stdout",
          "text": [
            "duplicate values -> 0\n"
          ]
        },
        {
          "output_type": "execute_result",
          "data": {
            "text/plain": [
              "sepal length (cm)    0\n",
              "sepal width (cm)     0\n",
              "petal length (cm)    0\n",
              "petal width (cm)     0\n",
              "target               0\n",
              "dtype: int64"
            ]
          },
          "metadata": {},
          "execution_count": 10
        }
      ]
    },
    {
      "cell_type": "code",
      "source": [
        "sns.countplot(x='target',data= iris)"
      ],
      "metadata": {
        "colab": {
          "base_uri": "https://localhost:8080/",
          "height": 296
        },
        "id": "nzc1to-pxQA9",
        "outputId": "bb016b1b-d5f9-430a-9197-c45dd6e4737b"
      },
      "id": "nzc1to-pxQA9",
      "execution_count": null,
      "outputs": [
        {
          "output_type": "execute_result",
          "data": {
            "text/plain": [
              "<matplotlib.axes._subplots.AxesSubplot at 0x7fefa349a1f0>"
            ]
          },
          "metadata": {},
          "execution_count": 11
        },
        {
          "output_type": "display_data",
          "data": {
            "text/plain": [
              "<Figure size 432x288 with 1 Axes>"
            ],
            "image/png": "[encoded data removed]"
          },
          "metadata": {
            "needs_background": "light"
          }
        }
      ]
    },
    {
      "cell_type": "markdown",
      "source": [
        "Make class 2----1\n",
        "so that it's 0,1, hence the sigmoid would work\n",
        "\n",
        "\n",
        "\n"
      ],
      "metadata": {
        "id": "VPulBrw-51iV"
      },
      "id": "VPulBrw-51iV"
    },
    {
      "cell_type": "code",
      "source": [
        "iris[\"target\"].replace( {2:1},inplace=True)"
      ],
      "metadata": {
        "id": "ZwCb6hiW5iaC"
      },
      "id": "ZwCb6hiW5iaC",
      "execution_count": null,
      "outputs": []
    },
    {
      "cell_type": "code",
      "source": [
        "sns.countplot(x='target',data= iris)"
      ],
      "metadata": {
        "id": "tPxXU24e1gZG",
        "outputId": "3a2998b0-a093-4edf-b4ab-dfe8de823d8a",
        "colab": {
          "base_uri": "https://localhost:8080/",
          "height": 296
        }
      },
      "id": "tPxXU24e1gZG",
      "execution_count": null,
      "outputs": [
        {
          "output_type": "execute_result",
          "data": {
            "text/plain": [
              "<matplotlib.axes._subplots.AxesSubplot at 0x7fefa33bb1c0>"
            ]
          },
          "metadata": {},
          "execution_count": 13
        },
        {
          "output_type": "display_data",
          "data": {
            "text/plain": [
              "<Figure size 432x288 with 1 Axes>"
            ],
            "image/png": "[encoded data removed]"
          },
          "metadata": {
            "needs_background": "light"
          }
        }
      ]
    },
    {
      "cell_type": "code",
      "source": [
        "#split the features and target\n",
        "X_iris=iris.iloc[:,:-1]\n",
        "y_iris=iris.iloc[:,-1]\n",
        "\n",
        "#Split dataset into training/testing\n",
        "X_train_iris, X_test_iris, y_train_iris, y_test_iris = train_test_split(X_iris, y_iris,\n",
        "                                                    test_size = 0.2,\n",
        "                                                    shuffle = True,random_state=13)\n"
      ],
      "metadata": {
        "id": "znCM1ETGxP2D"
      },
      "id": "znCM1ETGxP2D",
      "execution_count": null,
      "outputs": []
    },
    {
      "cell_type": "code",
      "source": [
        "X_iris.head()"
      ],
      "metadata": {
        "colab": {
          "base_uri": "https://localhost:8080/",
          "height": 206
        },
        "id": "obExmzyHW-36",
        "outputId": "f1f19dd7-82de-433f-a1a3-5beb4511abd2"
      },
      "id": "obExmzyHW-36",
      "execution_count": null,
      "outputs": [
        {
          "output_type": "execute_result",
          "data": {
            "text/plain": [
              "   sepal length (cm)  sepal width (cm)  petal length (cm)  petal width (cm)\n",
              "0                5.1               3.5                1.4               0.2\n",
              "1                4.9               3.0                1.4               0.2\n",
              "2                4.7               3.2                1.3               0.2\n",
              "3                4.6               3.1                1.5               0.2\n",
              "4                5.0               3.6                1.4               0.2"
            ],
            "text/html": [
              "\n",
              "  <div id=\"df-78eab642-e304-4d59-9cda-486cd75a2a2d\">\n",
              "    <div class=\"colab-df-container\">\n",
              "      <div>\n",
              "<style scoped>\n",
              "    .dataframe tbody tr th:only-of-type {\n",
              "        vertical-align: middle;\n",
              "    }\n",
              "\n",
              "    .dataframe tbody tr th {\n",
              "        vertical-align: top;\n",
              "    }\n",
              "\n",
              "    .dataframe thead th {\n",
              "        text-align: right;\n",
              "    }\n",
              "</style>\n",
              "<table border=\"1\" class=\"dataframe\">\n",
              "  <thead>\n",
              "    <tr style=\"text-align: right;\">\n",
              "      <th></th>\n",
              "      <th>sepal length (cm)</th>\n",
              "      <th>sepal width (cm)</th>\n",
              "      <th>petal length (cm)</th>\n",
              "      <th>petal width (cm)</th>\n",
              "    </tr>\n",
              "  </thead>\n",
              "  <tbody>\n",
              "    <tr>\n",
              "      <th>0</th>\n",
              "      <td>5.1</td>\n",
              "      <td>3.5</td>\n",
              "      <td>1.4</td>\n",
              "      <td>0.2</td>\n",
              "    </tr>\n",
              "    <tr>\n",
              "      <th>1</th>\n",
              "      <td>4.9</td>\n",
              "      <td>3.0</td>\n",
              "      <td>1.4</td>\n",
              "      <td>0.2</td>\n",
              "    </tr>\n",
              "    <tr>\n",
              "      <th>2</th>\n",
              "      <td>4.7</td>\n",
              "      <td>3.2</td>\n",
              "      <td>1.3</td>\n",
              "      <td>0.2</td>\n",
              "    </tr>\n",
              "    <tr>\n",
              "      <th>3</th>\n",
              "      <td>4.6</td>\n",
              "      <td>3.1</td>\n",
              "      <td>1.5</td>\n",
              "      <td>0.2</td>\n",
              "    </tr>\n",
              "    <tr>\n",
              "      <th>4</th>\n",
              "      <td>5.0</td>\n",
              "      <td>3.6</td>\n",
              "      <td>1.4</td>\n",
              "      <td>0.2</td>\n",
              "    </tr>\n",
              "  </tbody>\n",
              "</table>\n",
              "</div>\n",
              "      <button class=\"colab-df-convert\" onclick=\"convertToInteractive('df-78eab642-e304-4d59-9cda-486cd75a2a2d')\"\n",
              "              title=\"Convert this dataframe to an interactive table.\"\n",
              "              style=\"display:none;\">\n",
              "        \n",
              "  <svg xmlns=\"http://www.w3.org/2000/svg\" height=\"24px\"viewBox=\"0 0 24 24\"\n",
              "       width=\"24px\">\n",
              "    <path d=\"M0 0h24v24H0V0z\" fill=\"none\"/>\n",
              "    <path d=\"M18.56 5.44l.94 2.06.94-2.06 2.06-.94-2.06-.94-.94-2.06-.94 2.06-2.06.94zm-11 1L8.5 8.5l.94-2.06 2.06-.94-2.06-.94L8.5 2.5l-.94 2.06-2.06.94zm10 10l.94 2.06.94-2.06 2.06-.94-2.06-.94-.94-2.06-.94 2.06-2.06.94z\"/><path d=\"M17.41 7.96l-1.37-1.37c-.4-.4-.92-.59-1.43-.59-.52 0-1.04.2-1.43.59L10.3 9.45l-7.72 7.72c-.78.78-.78 2.05 0 2.83L4 21.41c.39.39.9.59 1.41.59.51 0 1.02-.2 1.41-.59l7.78-7.78 2.81-2.81c.8-.78.8-2.07 0-2.86zM5.41 20L4 18.59l7.72-7.72 1.47 1.35L5.41 20z\"/>\n",
              "  </svg>\n",
              "      </button>\n",
              "      \n",
              "  <style>\n",
              "    .colab-df-container {\n",
              "      display:flex;\n",
              "      flex-wrap:wrap;\n",
              "      gap: 12px;\n",
              "    }\n",
              "\n",
              "    .colab-df-convert {\n",
              "      background-color: #E8F0FE;\n",
              "      border: none;\n",
              "      border-radius: 50%;\n",
              "      cursor: pointer;\n",
              "      display: none;\n",
              "      fill: #1967D2;\n",
              "      height: 32px;\n",
              "      padding: 0 0 0 0;\n",
              "      width: 32px;\n",
              "    }\n",
              "\n",
              "    .colab-df-convert:hover {\n",
              "      background-color: #E2EBFA;\n",
              "      box-shadow: 0px 1px 2px rgba(60, 64, 67, 0.3), 0px 1px 3px 1px rgba(60, 64, 67, 0.15);\n",
              "      fill: #174EA6;\n",
              "    }\n",
              "\n",
              "    [theme=dark] .colab-df-convert {\n",
              "      background-color: #3B4455;\n",
              "      fill: #D2E3FC;\n",
              "    }\n",
              "\n",
              "    [theme=dark] .colab-df-convert:hover {\n",
              "      background-color: #434B5C;\n",
              "      box-shadow: 0px 1px 3px 1px rgba(0, 0, 0, 0.15);\n",
              "      filter: drop-shadow(0px 1px 2px rgba(0, 0, 0, 0.3));\n",
              "      fill: #FFFFFF;\n",
              "    }\n",
              "  </style>\n",
              "\n",
              "      <script>\n",
              "        const buttonEl =\n",
              "          document.querySelector('#df-78eab642-e304-4d59-9cda-486cd75a2a2d button.colab-df-convert');\n",
              "        buttonEl.style.display =\n",
              "          google.colab.kernel.accessAllowed ? 'block' : 'none';\n",
              "\n",
              "        async function convertToInteractive(key) {\n",
              "          const element = document.querySelector('#df-78eab642-e304-4d59-9cda-486cd75a2a2d');\n",
              "          const dataTable =\n",
              "            await google.colab.kernel.invokeFunction('convertToInteractive',\n",
              "                                                     [key], {});\n",
              "          if (!dataTable) return;\n",
              "\n",
              "          const docLinkHtml = 'Like what you see? Visit the ' +\n",
              "            '<a target=\"_blank\" href=https://colab.research.google.com/notebooks/data_table.ipynb>data table notebook</a>'\n",
              "            + ' to learn more about interactive tables.';\n",
              "          element.innerHTML = '';\n",
              "          dataTable['output_type'] = 'display_data';\n",
              "          await google.colab.output.renderOutput(dataTable, element);\n",
              "          const docLink = document.createElement('div');\n",
              "          docLink.innerHTML = docLinkHtml;\n",
              "          element.appendChild(docLink);\n",
              "        }\n",
              "      </script>\n",
              "    </div>\n",
              "  </div>\n",
              "  "
            ]
          },
          "metadata": {},
          "execution_count": 15
        }
      ]
    },
    {
      "cell_type": "code",
      "source": [
        "X_train_iris.transpose().shape"
      ],
      "metadata": {
        "colab": {
          "base_uri": "https://localhost:8080/"
        },
        "id": "G16opVFEsQuc",
        "outputId": "10a29b85-e205-42c8-f0c6-1d965725f2c3"
      },
      "id": "G16opVFEsQuc",
      "execution_count": null,
      "outputs": [
        {
          "output_type": "execute_result",
          "data": {
            "text/plain": [
              "(4, 119)"
            ]
          },
          "metadata": {},
          "execution_count": 16
        }
      ]
    },
    {
      "cell_type": "code",
      "source": [
        "y_train_iris=pd.DataFrame(y_train_iris)\n",
        "y_test_iris=pd.DataFrame(y_test_iris)\n",
        "y_train_iris.transpose().shape"
      ],
      "metadata": {
        "colab": {
          "base_uri": "https://localhost:8080/"
        },
        "id": "zY3J7lCEzqzH",
        "outputId": "4a46d0a5-a16d-4cb4-9e25-12e2dae9fec0"
      },
      "id": "zY3J7lCEzqzH",
      "execution_count": null,
      "outputs": [
        {
          "output_type": "execute_result",
          "data": {
            "text/plain": [
              "(1, 119)"
            ]
          },
          "metadata": {},
          "execution_count": 17
        }
      ]
    },
    {
      "cell_type": "markdown",
      "source": [
        "# *model on train data:*"
      ],
      "metadata": {
        "id": "_35TJLZg9vT0"
      },
      "id": "_35TJLZg9vT0"
    },
    {
      "cell_type": "code",
      "source": [
        "# Build a model with a n_h-dimensional hidden layer\n",
        "y_train_iris=pd.DataFrame(y_train_iris)\n",
        "y_test_iris=pd.DataFrame(y_test_iris)\n",
        "n_x_train_iris= X_train_iris.shape[1]\n",
        "n_y_train_iris=y_train_iris.shape[1]\n",
        "n_x_test_iris=X_test_iris.shape[1]\n",
        "n_y_test_iris=y_test_iris.shape[1]\n",
        "##trainsets:\n",
        "parameters_train_iris=nn_1hidden_model(X_train_iris.transpose(), y_train_iris.transpose(), n_x_train_iris, n_y_train_iris,n_h = 4, n_iteration=5000)\n",
        "\n",
        "# Predict test/train set examples\n",
        "Y_prediction_train_iris = predict_1hidden_model (parameters_train_iris,X_train_iris.transpose())\n"
      ],
      "metadata": {
        "colab": {
          "base_uri": "https://localhost:8080/"
        },
        "id": "706vHAU817i_",
        "outputId": "9490f91c-9d56-4604-e221-5b97954928f2"
      },
      "id": "706vHAU817i_",
      "execution_count": null,
      "outputs": [
        {
          "output_type": "stream",
          "name": "stderr",
          "text": [
            "<ipython-input-3-007ea7dd0df3>:2: RuntimeWarning: overflow encountered in exp\n",
            "  A = 1/(1+np.exp(-Z))\n"
          ]
        }
      ]
    },
    {
      "cell_type": "code",
      "source": [
        "# Print train accuracy\n",
        "print ('IRIS train accuracy: %d' % float((np.dot(y_train_iris.transpose(), Y_prediction_train_iris.transpose()) + np.dot(1 - y_train_iris.transpose(), 1 - Y_prediction_train_iris.transpose())) / float(y_train_iris.transpose().size) * 100) + '%')\n"
      ],
      "metadata": {
        "id": "eHfGdI74hHTk",
        "outputId": "fc288e43-1423-42a9-8e78-00b900a4d53a",
        "colab": {
          "base_uri": "https://localhost:8080/"
        }
      },
      "id": "eHfGdI74hHTk",
      "execution_count": null,
      "outputs": [
        {
          "output_type": "stream",
          "name": "stdout",
          "text": [
            "IRIS train accuracy: 75%\n"
          ]
        }
      ]
    },
    {
      "cell_type": "code",
      "source": [
        "# Print test accuracy\n",
        "parameters_test_iris=initialize_parameters(n_x_test_iris,4, n_y_test_iris)\n",
        "Y_prediction_test_iris = predict_1hidden_model (parameters_test_iris,X_test_iris.transpose())\n",
        "print ('IRIS test accuracy: %d' % abs(float((np.dot(y_test_iris.transpose(), Y_prediction_test_iris.transpose()) + np.dot(1 - y_test_iris.transpose(), 1 - Y_prediction_test_iris.transpose())) / float(y_test_iris.transpose().size) * 100)) + '%')\n",
        "\n"
      ],
      "metadata": {
        "id": "D3-iD-driWhd",
        "outputId": "43ce0b5d-6ca4-4527-feba-2126776dddf7",
        "colab": {
          "base_uri": "https://localhost:8080/"
        }
      },
      "id": "D3-iD-driWhd",
      "execution_count": null,
      "outputs": [
        {
          "output_type": "stream",
          "name": "stdout",
          "text": [
            "IRIS test accuracy: 30%\n"
          ]
        }
      ]
    },
    {
      "cell_type": "markdown",
      "source": [
        "# MNIST Dataset:"
      ],
      "metadata": {
        "id": "BfErDQfFfIIz"
      },
      "id": "BfErDQfFfIIz"
    },
    {
      "cell_type": "code",
      "source": [
        "df_train = pd.read_csv(\"/content/mnist_train.csv\")\n",
        "df_train.head()"
      ],
      "metadata": {
        "colab": {
          "base_uri": "https://localhost:8080/",
          "height": 235
        },
        "id": "fax8OXKVfKDz",
        "outputId": "614889e4-0a6d-44e0-f6e0-c507571c7d88"
      },
      "id": "fax8OXKVfKDz",
      "execution_count": null,
      "outputs": [
        {
          "output_type": "execute_result",
          "data": {
            "text/plain": [
              "   label  1x1  1x2  1x3  1x4  1x5  1x6  1x7  1x8  1x9  ...  28x19  28x20  \\\n",
              "0      5    0    0    0    0    0    0    0    0    0  ...      0      0   \n",
              "1      0    0    0    0    0    0    0    0    0    0  ...      0      0   \n",
              "2      4    0    0    0    0    0    0    0    0    0  ...      0      0   \n",
              "3      1    0    0    0    0    0    0    0    0    0  ...      0      0   \n",
              "4      9    0    0    0    0    0    0    0    0    0  ...      0      0   \n",
              "\n",
              "   28x21  28x22  28x23  28x24  28x25  28x26  28x27  28x28  \n",
              "0      0      0      0      0      0      0      0      0  \n",
              "1      0      0      0      0      0      0      0      0  \n",
              "2      0      0      0      0      0      0      0      0  \n",
              "3      0      0      0      0      0      0      0      0  \n",
              "4      0      0      0      0      0      0      0      0  \n",
              "\n",
              "[5 rows x 785 columns]"
            ],
            "text/html": [
              "\n",
              "  <div id=\"df-fcad3aac-82c3-4be8-8410-b53c5966ff6b\">\n",
              "    <div class=\"colab-df-container\">\n",
              "      <div>\n",
              "<style scoped>\n",
              "    .dataframe tbody tr th:only-of-type {\n",
              "        vertical-align: middle;\n",
              "    }\n",
              "\n",
              "    .dataframe tbody tr th {\n",
              "        vertical-align: top;\n",
              "    }\n",
              "\n",
              "    .dataframe thead th {\n",
              "        text-align: right;\n",
              "    }\n",
              "</style>\n",
              "<table border=\"1\" class=\"dataframe\">\n",
              "  <thead>\n",
              "    <tr style=\"text-align: right;\">\n",
              "      <th></th>\n",
              "      <th>label</th>\n",
              "      <th>1x1</th>\n",
              "      <th>1x2</th>\n",
              "      <th>1x3</th>\n",
              "      <th>1x4</th>\n",
              "      <th>1x5</th>\n",
              "      <th>1x6</th>\n",
              "      <th>1x7</th>\n",
              "      <th>1x8</th>\n",
              "      <th>1x9</th>\n",
              "      <th>...</th>\n",
              "      <th>28x19</th>\n",
              "      <th>28x20</th>\n",
              "      <th>28x21</th>\n",
              "      <th>28x22</th>\n",
              "      <th>28x23</th>\n",
              "      <th>28x24</th>\n",
              "      <th>28x25</th>\n",
              "      <th>28x26</th>\n",
              "      <th>28x27</th>\n",
              "      <th>28x28</th>\n",
              "    </tr>\n",
              "  </thead>\n",
              "  <tbody>\n",
              "    <tr>\n",
              "      <th>0</th>\n",
              "      <td>5</td>\n",
              "      <td>0</td>\n",
              "      <td>0</td>\n",
              "      <td>0</td>\n",
              "      <td>0</td>\n",
              "      <td>0</td>\n",
              "      <td>0</td>\n",
              "      <td>0</td>\n",
              "      <td>0</td>\n",
              "      <td>0</td>\n",
              "      <td>...</td>\n",
              "      <td>0</td>\n",
              "      <td>0</td>\n",
              "      <td>0</td>\n",
              "      <td>0</td>\n",
              "      <td>0</td>\n",
              "      <td>0</td>\n",
              "      <td>0</td>\n",
              "      <td>0</td>\n",
              "      <td>0</td>\n",
              "      <td>0</td>\n",
              "    </tr>\n",
              "    <tr>\n",
              "      <th>1</th>\n",
              "      <td>0</td>\n",
              "      <td>0</td>\n",
              "      <td>0</td>\n",
              "      <td>0</td>\n",
              "      <td>0</td>\n",
              "      <td>0</td>\n",
              "      <td>0</td>\n",
              "      <td>0</td>\n",
              "      <td>0</td>\n",
              "      <td>0</td>\n",
              "      <td>...</td>\n",
              "      <td>0</td>\n",
              "      <td>0</td>\n",
              "      <td>0</td>\n",
              "      <td>0</td>\n",
              "      <td>0</td>\n",
              "      <td>0</td>\n",
              "      <td>0</td>\n",
              "      <td>0</td>\n",
              "      <td>0</td>\n",
              "      <td>0</td>\n",
              "    </tr>\n",
              "    <tr>\n",
              "      <th>2</th>\n",
              "      <td>4</td>\n",
              "      <td>0</td>\n",
              "      <td>0</td>\n",
              "      <td>0</td>\n",
              "      <td>0</td>\n",
              "      <td>0</td>\n",
              "      <td>0</td>\n",
              "      <td>0</td>\n",
              "      <td>0</td>\n",
              "      <td>0</td>\n",
              "      <td>...</td>\n",
              "      <td>0</td>\n",
              "      <td>0</td>\n",
              "      <td>0</td>\n",
              "      <td>0</td>\n",
              "      <td>0</td>\n",
              "      <td>0</td>\n",
              "      <td>0</td>\n",
              "      <td>0</td>\n",
              "      <td>0</td>\n",
              "      <td>0</td>\n",
              "    </tr>\n",
              "    <tr>\n",
              "      <th>3</th>\n",
              "      <td>1</td>\n",
              "      <td>0</td>\n",
              "      <td>0</td>\n",
              "      <td>0</td>\n",
              "      <td>0</td>\n",
              "      <td>0</td>\n",
              "      <td>0</td>\n",
              "      <td>0</td>\n",
              "      <td>0</td>\n",
              "      <td>0</td>\n",
              "      <td>...</td>\n",
              "      <td>0</td>\n",
              "      <td>0</td>\n",
              "      <td>0</td>\n",
              "      <td>0</td>\n",
              "      <td>0</td>\n",
              "      <td>0</td>\n",
              "      <td>0</td>\n",
              "      <td>0</td>\n",
              "      <td>0</td>\n",
              "      <td>0</td>\n",
              "    </tr>\n",
              "    <tr>\n",
              "      <th>4</th>\n",
              "      <td>9</td>\n",
              "      <td>0</td>\n",
              "      <td>0</td>\n",
              "      <td>0</td>\n",
              "      <td>0</td>\n",
              "      <td>0</td>\n",
              "      <td>0</td>\n",
              "      <td>0</td>\n",
              "      <td>0</td>\n",
              "      <td>0</td>\n",
              "      <td>...</td>\n",
              "      <td>0</td>\n",
              "      <td>0</td>\n",
              "      <td>0</td>\n",
              "      <td>0</td>\n",
              "      <td>0</td>\n",
              "      <td>0</td>\n",
              "      <td>0</td>\n",
              "      <td>0</td>\n",
              "      <td>0</td>\n",
              "      <td>0</td>\n",
              "    </tr>\n",
              "  </tbody>\n",
              "</table>\n",
              "<p>5 rows × 785 columns</p>\n",
              "</div>\n",
              "      <button class=\"colab-df-convert\" onclick=\"convertToInteractive('df-fcad3aac-82c3-4be8-8410-b53c5966ff6b')\"\n",
              "              title=\"Convert this dataframe to an interactive table.\"\n",
              "              style=\"display:none;\">\n",
              "        \n",
              "  <svg xmlns=\"http://www.w3.org/2000/svg\" height=\"24px\"viewBox=\"0 0 24 24\"\n",
              "       width=\"24px\">\n",
              "    <path d=\"M0 0h24v24H0V0z\" fill=\"none\"/>\n",
              "    <path d=\"M18.56 5.44l.94 2.06.94-2.06 2.06-.94-2.06-.94-.94-2.06-.94 2.06-2.06.94zm-11 1L8.5 8.5l.94-2.06 2.06-.94-2.06-.94L8.5 2.5l-.94 2.06-2.06.94zm10 10l.94 2.06.94-2.06 2.06-.94-2.06-.94-.94-2.06-.94 2.06-2.06.94z\"/><path d=\"M17.41 7.96l-1.37-1.37c-.4-.4-.92-.59-1.43-.59-.52 0-1.04.2-1.43.59L10.3 9.45l-7.72 7.72c-.78.78-.78 2.05 0 2.83L4 21.41c.39.39.9.59 1.41.59.51 0 1.02-.2 1.41-.59l7.78-7.78 2.81-2.81c.8-.78.8-2.07 0-2.86zM5.41 20L4 18.59l7.72-7.72 1.47 1.35L5.41 20z\"/>\n",
              "  </svg>\n",
              "      </button>\n",
              "      \n",
              "  <style>\n",
              "    .colab-df-container {\n",
              "      display:flex;\n",
              "      flex-wrap:wrap;\n",
              "      gap: 12px;\n",
              "    }\n",
              "\n",
              "    .colab-df-convert {\n",
              "      background-color: #E8F0FE;\n",
              "      border: none;\n",
              "      border-radius: 50%;\n",
              "      cursor: pointer;\n",
              "      display: none;\n",
              "      fill: #1967D2;\n",
              "      height: 32px;\n",
              "      padding: 0 0 0 0;\n",
              "      width: 32px;\n",
              "    }\n",
              "\n",
              "    .colab-df-convert:hover {\n",
              "      background-color: #E2EBFA;\n",
              "      box-shadow: 0px 1px 2px rgba(60, 64, 67, 0.3), 0px 1px 3px 1px rgba(60, 64, 67, 0.15);\n",
              "      fill: #174EA6;\n",
              "    }\n",
              "\n",
              "    [theme=dark] .colab-df-convert {\n",
              "      background-color: #3B4455;\n",
              "      fill: #D2E3FC;\n",
              "    }\n",
              "\n",
              "    [theme=dark] .colab-df-convert:hover {\n",
              "      background-color: #434B5C;\n",
              "      box-shadow: 0px 1px 3px 1px rgba(0, 0, 0, 0.15);\n",
              "      filter: drop-shadow(0px 1px 2px rgba(0, 0, 0, 0.3));\n",
              "      fill: #FFFFFF;\n",
              "    }\n",
              "  </style>\n",
              "\n",
              "      <script>\n",
              "        const buttonEl =\n",
              "          document.querySelector('#df-fcad3aac-82c3-4be8-8410-b53c5966ff6b button.colab-df-convert');\n",
              "        buttonEl.style.display =\n",
              "          google.colab.kernel.accessAllowed ? 'block' : 'none';\n",
              "\n",
              "        async function convertToInteractive(key) {\n",
              "          const element = document.querySelector('#df-fcad3aac-82c3-4be8-8410-b53c5966ff6b');\n",
              "          const dataTable =\n",
              "            await google.colab.kernel.invokeFunction('convertToInteractive',\n",
              "                                                     [key], {});\n",
              "          if (!dataTable) return;\n",
              "\n",
              "          const docLinkHtml = 'Like what you see? Visit the ' +\n",
              "            '<a target=\"_blank\" href=https://colab.research.google.com/notebooks/data_table.ipynb>data table notebook</a>'\n",
              "            + ' to learn more about interactive tables.';\n",
              "          element.innerHTML = '';\n",
              "          dataTable['output_type'] = 'display_data';\n",
              "          await google.colab.output.renderOutput(dataTable, element);\n",
              "          const docLink = document.createElement('div');\n",
              "          docLink.innerHTML = docLinkHtml;\n",
              "          element.appendChild(docLink);\n",
              "        }\n",
              "      </script>\n",
              "    </div>\n",
              "  </div>\n",
              "  "
            ]
          },
          "metadata": {},
          "execution_count": 21
        }
      ]
    },
    {
      "cell_type": "code",
      "source": [
        "sns.countplot(x='label',data= df_train )"
      ],
      "metadata": {
        "colab": {
          "base_uri": "https://localhost:8080/",
          "height": 298
        },
        "id": "7Ig5T1l3rXxZ",
        "outputId": "6f6a1dcf-8a2e-4765-c69e-3d1e42f7ba9f"
      },
      "id": "7Ig5T1l3rXxZ",
      "execution_count": null,
      "outputs": [
        {
          "output_type": "execute_result",
          "data": {
            "text/plain": [
              "<matplotlib.axes._subplots.AxesSubplot at 0x7fefa3511a00>"
            ]
          },
          "metadata": {},
          "execution_count": 22
        },
        {
          "output_type": "display_data",
          "data": {
            "text/plain": [
              "<Figure size 432x288 with 1 Axes>"
            ],
            "image/png": "[encoded data removed]"
          },
          "metadata": {
            "needs_background": "light"
          }
        }
      ]
    },
    {
      "cell_type": "markdown",
      "source": [
        "Make classes<=4---0\n",
        "Make classes>4---1\n",
        "so that it's 0,1, hence the sigmoid would work"
      ],
      "metadata": {
        "id": "-AKj4wHF6OuP"
      },
      "id": "-AKj4wHF6OuP"
    },
    {
      "cell_type": "code",
      "source": [
        "df_train[\"label\"].replace( {1:0, 2:0, 3:0, 4:0, 5:1, 6:1, 7:1, 8:1, 9:1 },inplace=True)"
      ],
      "metadata": {
        "id": "Y3GLlWtN6QFG"
      },
      "id": "Y3GLlWtN6QFG",
      "execution_count": null,
      "outputs": []
    },
    {
      "cell_type": "code",
      "source": [
        "sns.countplot(x='label',data= df_train )"
      ],
      "metadata": {
        "id": "PtMeDZoE7COV",
        "outputId": "8d674382-2477-49a3-ab06-605d42371900",
        "colab": {
          "base_uri": "https://localhost:8080/",
          "height": 296
        }
      },
      "id": "PtMeDZoE7COV",
      "execution_count": null,
      "outputs": [
        {
          "output_type": "execute_result",
          "data": {
            "text/plain": [
              "<matplotlib.axes._subplots.AxesSubplot at 0x7fefa2c06c10>"
            ]
          },
          "metadata": {},
          "execution_count": 24
        },
        {
          "output_type": "display_data",
          "data": {
            "text/plain": [
              "<Figure size 432x288 with 1 Axes>"
            ],
            "image/png": "[encoded data removed]"
          },
          "metadata": {
            "needs_background": "light"
          }
        }
      ]
    },
    {
      "cell_type": "code",
      "source": [
        "#drop duplicates\n",
        "df_train.drop_duplicates(inplace=True)\n",
        "print('duplicate values -> {}'.format(df_train.duplicated().sum()))\n",
        "# Drop the null values\n",
        "df_train.dropna(inplace=True)\n",
        "df_train.isnull().sum()"
      ],
      "metadata": {
        "id": "EZBUzdSqp_Ps",
        "outputId": "84c9e0c7-f64c-4abf-9cac-5404ef372578",
        "colab": {
          "base_uri": "https://localhost:8080/"
        }
      },
      "id": "EZBUzdSqp_Ps",
      "execution_count": null,
      "outputs": [
        {
          "output_type": "stream",
          "name": "stdout",
          "text": [
            "duplicate values -> 0\n"
          ]
        },
        {
          "output_type": "execute_result",
          "data": {
            "text/plain": [
              "label    0\n",
              "1x1      0\n",
              "1x2      0\n",
              "1x3      0\n",
              "1x4      0\n",
              "        ..\n",
              "28x24    0\n",
              "28x25    0\n",
              "28x26    0\n",
              "28x27    0\n",
              "28x28    0\n",
              "Length: 785, dtype: int64"
            ]
          },
          "metadata": {},
          "execution_count": 25
        }
      ]
    },
    {
      "cell_type": "code",
      "source": [
        "X=df_train.iloc[-1,:]\n",
        "Y=df_train.loc[:, df_train.columns != 'label']"
      ],
      "metadata": {
        "id": "iAp1ZKj8tKtU"
      },
      "id": "iAp1ZKj8tKtU",
      "execution_count": null,
      "outputs": []
    },
    {
      "cell_type": "code",
      "source": [
        "#split the features and target\n",
        "X_train=df_train.loc[:, df_train.columns != 'label']\n",
        "Y_train=df_train.iloc[:, 0]\n",
        "Y_train=pd.DataFrame(Y_train)\n",
        "Y_train.transpose().shape"
      ],
      "metadata": {
        "id": "dVfZzbw9qX4N",
        "outputId": "d6943c92-e50b-4502-aafc-19a1b436e597",
        "colab": {
          "base_uri": "https://localhost:8080/"
        }
      },
      "id": "dVfZzbw9qX4N",
      "execution_count": null,
      "outputs": [
        {
          "output_type": "execute_result",
          "data": {
            "text/plain": [
              "(1, 60000)"
            ]
          },
          "metadata": {},
          "execution_count": 27
        }
      ]
    },
    {
      "cell_type": "code",
      "source": [
        "X_train.shape[1]\n"
      ],
      "metadata": {
        "id": "LkH0YNrWsNwS",
        "outputId": "7cd16f4e-2126-47c8-eb09-60a1d6e10ada",
        "colab": {
          "base_uri": "https://localhost:8080/"
        }
      },
      "id": "LkH0YNrWsNwS",
      "execution_count": null,
      "outputs": [
        {
          "output_type": "execute_result",
          "data": {
            "text/plain": [
              "784"
            ]
          },
          "metadata": {},
          "execution_count": 28
        }
      ]
    },
    {
      "cell_type": "code",
      "source": [
        "Y_train.shape"
      ],
      "metadata": {
        "id": "zEqHr9ZtuVql",
        "outputId": "85c5a292-600b-4c6a-935f-19999e32a99a",
        "colab": {
          "base_uri": "https://localhost:8080/"
        }
      },
      "id": "zEqHr9ZtuVql",
      "execution_count": null,
      "outputs": [
        {
          "output_type": "execute_result",
          "data": {
            "text/plain": [
              "(60000, 1)"
            ]
          },
          "metadata": {},
          "execution_count": 29
        }
      ]
    },
    {
      "cell_type": "markdown",
      "source": [
        "# *model on train data:*"
      ],
      "metadata": {
        "id": "r9cFDMHAq5eK"
      },
      "id": "r9cFDMHAq5eK"
    },
    {
      "cell_type": "code",
      "source": [
        "# Build a model with a n_h-dimensional hidden layer\n",
        "n_x_train= X_train.shape[1]\n",
        "n_y_train=Y_train.shape[1]\n",
        "\n",
        "##trainsets:\n",
        "parameters_train=nn_1hidden_model(X_train.transpose(), Y_train.transpose(), n_x_train, n_y_train,n_h = 4, n_iteration=5000)\n",
        "\n",
        "# Predict test/train set examples\n",
        "Y_prediction_train = predict_1hidden_model (parameters_train,X_train.transpose())"
      ],
      "metadata": {
        "id": "HTMIp6oRqty1",
        "outputId": "17cfa24d-eb9a-4d4c-a808-4975c9fa767f",
        "colab": {
          "base_uri": "https://localhost:8080/"
        }
      },
      "id": "HTMIp6oRqty1",
      "execution_count": null,
      "outputs": [
        {
          "output_type": "stream",
          "name": "stderr",
          "text": [
            "<ipython-input-3-007ea7dd0df3>:2: RuntimeWarning: overflow encountered in exp\n",
            "  A = 1/(1+np.exp(-Z))\n"
          ]
        }
      ]
    },
    {
      "cell_type": "code",
      "source": [
        "# Print train accuracy\n",
        "print ('MNIST train accuracy: %d' % float((np.dot(Y_train.transpose(), Y_prediction_train.transpose()) + np.dot(1 - Y_train.transpose(), 1 - Y_prediction_train.transpose())) / float(Y_train.transpose().size) * 100) + '%')\n"
      ],
      "metadata": {
        "id": "323ALTUBqtus",
        "outputId": "83391c14-d3d5-4c1b-b518-d6eb6a6d5b72",
        "colab": {
          "base_uri": "https://localhost:8080/"
        }
      },
      "id": "323ALTUBqtus",
      "execution_count": null,
      "outputs": [
        {
          "output_type": "stream",
          "name": "stdout",
          "text": [
            "MNIST train accuracy: 82%\n"
          ]
        }
      ]
    },
    {
      "cell_type": "markdown",
      "source": [
        "Test dataset:"
      ],
      "metadata": {
        "id": "FzDudgNswGQX"
      },
      "id": "FzDudgNswGQX"
    },
    {
      "cell_type": "code",
      "source": [
        "df_test = pd.read_csv(\"/content/mnist_test.csv\")\n",
        "df_test.head()"
      ],
      "metadata": {
        "colab": {
          "base_uri": "https://localhost:8080/",
          "height": 235
        },
        "id": "MrSAA1w3oz8m",
        "outputId": "30f3f277-78f6-4883-dff5-30ddca3fa520"
      },
      "id": "MrSAA1w3oz8m",
      "execution_count": null,
      "outputs": [
        {
          "output_type": "execute_result",
          "data": {
            "text/plain": [
              "   label  1x1  1x2  1x3  1x4  1x5  1x6  1x7  1x8  1x9  ...  28x19  28x20  \\\n",
              "0      7    0    0    0    0    0    0    0    0    0  ...      0      0   \n",
              "1      2    0    0    0    0    0    0    0    0    0  ...      0      0   \n",
              "2      1    0    0    0    0    0    0    0    0    0  ...      0      0   \n",
              "3      0    0    0    0    0    0    0    0    0    0  ...      0      0   \n",
              "4      4    0    0    0    0    0    0    0    0    0  ...      0      0   \n",
              "\n",
              "   28x21  28x22  28x23  28x24  28x25  28x26  28x27  28x28  \n",
              "0      0      0      0      0      0      0      0      0  \n",
              "1      0      0      0      0      0      0      0      0  \n",
              "2      0      0      0      0      0      0      0      0  \n",
              "3      0      0      0      0      0      0      0      0  \n",
              "4      0      0      0      0      0      0      0      0  \n",
              "\n",
              "[5 rows x 785 columns]"
            ],
            "text/html": [
              "\n",
              "  <div id=\"df-08c89836-7685-41da-8bef-98a54a7db543\">\n",
              "    <div class=\"colab-df-container\">\n",
              "      <div>\n",
              "<style scoped>\n",
              "    .dataframe tbody tr th:only-of-type {\n",
              "        vertical-align: middle;\n",
              "    }\n",
              "\n",
              "    .dataframe tbody tr th {\n",
              "        vertical-align: top;\n",
              "    }\n",
              "\n",
              "    .dataframe thead th {\n",
              "        text-align: right;\n",
              "    }\n",
              "</style>\n",
              "<table border=\"1\" class=\"dataframe\">\n",
              "  <thead>\n",
              "    <tr style=\"text-align: right;\">\n",
              "      <th></th>\n",
              "      <th>label</th>\n",
              "      <th>1x1</th>\n",
              "      <th>1x2</th>\n",
              "      <th>1x3</th>\n",
              "      <th>1x4</th>\n",
              "      <th>1x5</th>\n",
              "      <th>1x6</th>\n",
              "      <th>1x7</th>\n",
              "      <th>1x8</th>\n",
              "      <th>1x9</th>\n",
              "      <th>...</th>\n",
              "      <th>28x19</th>\n",
              "      <th>28x20</th>\n",
              "      <th>28x21</th>\n",
              "      <th>28x22</th>\n",
              "      <th>28x23</th>\n",
              "      <th>28x24</th>\n",
              "      <th>28x25</th>\n",
              "      <th>28x26</th>\n",
              "      <th>28x27</th>\n",
              "      <th>28x28</th>\n",
              "    </tr>\n",
              "  </thead>\n",
              "  <tbody>\n",
              "    <tr>\n",
              "      <th>0</th>\n",
              "      <td>7</td>\n",
              "      <td>0</td>\n",
              "      <td>0</td>\n",
              "      <td>0</td>\n",
              "      <td>0</td>\n",
              "      <td>0</td>\n",
              "      <td>0</td>\n",
              "      <td>0</td>\n",
              "      <td>0</td>\n",
              "      <td>0</td>\n",
              "      <td>...</td>\n",
              "      <td>0</td>\n",
              "      <td>0</td>\n",
              "      <td>0</td>\n",
              "      <td>0</td>\n",
              "      <td>0</td>\n",
              "      <td>0</td>\n",
              "      <td>0</td>\n",
              "      <td>0</td>\n",
              "      <td>0</td>\n",
              "      <td>0</td>\n",
              "    </tr>\n",
              "    <tr>\n",
              "      <th>1</th>\n",
              "      <td>2</td>\n",
              "      <td>0</td>\n",
              "      <td>0</td>\n",
              "      <td>0</td>\n",
              "      <td>0</td>\n",
              "      <td>0</td>\n",
              "      <td>0</td>\n",
              "      <td>0</td>\n",
              "      <td>0</td>\n",
              "      <td>0</td>\n",
              "      <td>...</td>\n",
              "      <td>0</td>\n",
              "      <td>0</td>\n",
              "      <td>0</td>\n",
              "      <td>0</td>\n",
              "      <td>0</td>\n",
              "      <td>0</td>\n",
              "      <td>0</td>\n",
              "      <td>0</td>\n",
              "      <td>0</td>\n",
              "      <td>0</td>\n",
              "    </tr>\n",
              "    <tr>\n",
              "      <th>2</th>\n",
              "      <td>1</td>\n",
              "      <td>0</td>\n",
              "      <td>0</td>\n",
              "      <td>0</td>\n",
              "      <td>0</td>\n",
              "      <td>0</td>\n",
              "      <td>0</td>\n",
              "      <td>0</td>\n",
              "      <td>0</td>\n",
              "      <td>0</td>\n",
              "      <td>...</td>\n",
              "      <td>0</td>\n",
              "      <td>0</td>\n",
              "      <td>0</td>\n",
              "      <td>0</td>\n",
              "      <td>0</td>\n",
              "      <td>0</td>\n",
              "      <td>0</td>\n",
              "      <td>0</td>\n",
              "      <td>0</td>\n",
              "      <td>0</td>\n",
              "    </tr>\n",
              "    <tr>\n",
              "      <th>3</th>\n",
              "      <td>0</td>\n",
              "      <td>0</td>\n",
              "      <td>0</td>\n",
              "      <td>0</td>\n",
              "      <td>0</td>\n",
              "      <td>0</td>\n",
              "      <td>0</td>\n",
              "      <td>0</td>\n",
              "      <td>0</td>\n",
              "      <td>0</td>\n",
              "      <td>...</td>\n",
              "      <td>0</td>\n",
              "      <td>0</td>\n",
              "      <td>0</td>\n",
              "      <td>0</td>\n",
              "      <td>0</td>\n",
              "      <td>0</td>\n",
              "      <td>0</td>\n",
              "      <td>0</td>\n",
              "      <td>0</td>\n",
              "      <td>0</td>\n",
              "    </tr>\n",
              "    <tr>\n",
              "      <th>4</th>\n",
              "      <td>4</td>\n",
              "      <td>0</td>\n",
              "      <td>0</td>\n",
              "      <td>0</td>\n",
              "      <td>0</td>\n",
              "      <td>0</td>\n",
              "      <td>0</td>\n",
              "      <td>0</td>\n",
              "      <td>0</td>\n",
              "      <td>0</td>\n",
              "      <td>...</td>\n",
              "      <td>0</td>\n",
              "      <td>0</td>\n",
              "      <td>0</td>\n",
              "      <td>0</td>\n",
              "      <td>0</td>\n",
              "      <td>0</td>\n",
              "      <td>0</td>\n",
              "      <td>0</td>\n",
              "      <td>0</td>\n",
              "      <td>0</td>\n",
              "    </tr>\n",
              "  </tbody>\n",
              "</table>\n",
              "<p>5 rows × 785 columns</p>\n",
              "</div>\n",
              "      <button class=\"colab-df-convert\" onclick=\"convertToInteractive('df-08c89836-7685-41da-8bef-98a54a7db543')\"\n",
              "              title=\"Convert this dataframe to an interactive table.\"\n",
              "              style=\"display:none;\">\n",
              "        \n",
              "  <svg xmlns=\"http://www.w3.org/2000/svg\" height=\"24px\"viewBox=\"0 0 24 24\"\n",
              "       width=\"24px\">\n",
              "    <path d=\"M0 0h24v24H0V0z\" fill=\"none\"/>\n",
              "    <path d=\"M18.56 5.44l.94 2.06.94-2.06 2.06-.94-2.06-.94-.94-2.06-.94 2.06-2.06.94zm-11 1L8.5 8.5l.94-2.06 2.06-.94-2.06-.94L8.5 2.5l-.94 2.06-2.06.94zm10 10l.94 2.06.94-2.06 2.06-.94-2.06-.94-.94-2.06-.94 2.06-2.06.94z\"/><path d=\"M17.41 7.96l-1.37-1.37c-.4-.4-.92-.59-1.43-.59-.52 0-1.04.2-1.43.59L10.3 9.45l-7.72 7.72c-.78.78-.78 2.05 0 2.83L4 21.41c.39.39.9.59 1.41.59.51 0 1.02-.2 1.41-.59l7.78-7.78 2.81-2.81c.8-.78.8-2.07 0-2.86zM5.41 20L4 18.59l7.72-7.72 1.47 1.35L5.41 20z\"/>\n",
              "  </svg>\n",
              "      </button>\n",
              "      \n",
              "  <style>\n",
              "    .colab-df-container {\n",
              "      display:flex;\n",
              "      flex-wrap:wrap;\n",
              "      gap: 12px;\n",
              "    }\n",
              "\n",
              "    .colab-df-convert {\n",
              "      background-color: #E8F0FE;\n",
              "      border: none;\n",
              "      border-radius: 50%;\n",
              "      cursor: pointer;\n",
              "      display: none;\n",
              "      fill: #1967D2;\n",
              "      height: 32px;\n",
              "      padding: 0 0 0 0;\n",
              "      width: 32px;\n",
              "    }\n",
              "\n",
              "    .colab-df-convert:hover {\n",
              "      background-color: #E2EBFA;\n",
              "      box-shadow: 0px 1px 2px rgba(60, 64, 67, 0.3), 0px 1px 3px 1px rgba(60, 64, 67, 0.15);\n",
              "      fill: #174EA6;\n",
              "    }\n",
              "\n",
              "    [theme=dark] .colab-df-convert {\n",
              "      background-color: #3B4455;\n",
              "      fill: #D2E3FC;\n",
              "    }\n",
              "\n",
              "    [theme=dark] .colab-df-convert:hover {\n",
              "      background-color: #434B5C;\n",
              "      box-shadow: 0px 1px 3px 1px rgba(0, 0, 0, 0.15);\n",
              "      filter: drop-shadow(0px 1px 2px rgba(0, 0, 0, 0.3));\n",
              "      fill: #FFFFFF;\n",
              "    }\n",
              "  </style>\n",
              "\n",
              "      <script>\n",
              "        const buttonEl =\n",
              "          document.querySelector('#df-08c89836-7685-41da-8bef-98a54a7db543 button.colab-df-convert');\n",
              "        buttonEl.style.display =\n",
              "          google.colab.kernel.accessAllowed ? 'block' : 'none';\n",
              "\n",
              "        async function convertToInteractive(key) {\n",
              "          const element = document.querySelector('#df-08c89836-7685-41da-8bef-98a54a7db543');\n",
              "          const dataTable =\n",
              "            await google.colab.kernel.invokeFunction('convertToInteractive',\n",
              "                                                     [key], {});\n",
              "          if (!dataTable) return;\n",
              "\n",
              "          const docLinkHtml = 'Like what you see? Visit the ' +\n",
              "            '<a target=\"_blank\" href=https://colab.research.google.com/notebooks/data_table.ipynb>data table notebook</a>'\n",
              "            + ' to learn more about interactive tables.';\n",
              "          element.innerHTML = '';\n",
              "          dataTable['output_type'] = 'display_data';\n",
              "          await google.colab.output.renderOutput(dataTable, element);\n",
              "          const docLink = document.createElement('div');\n",
              "          docLink.innerHTML = docLinkHtml;\n",
              "          element.appendChild(docLink);\n",
              "        }\n",
              "      </script>\n",
              "    </div>\n",
              "  </div>\n",
              "  "
            ]
          },
          "metadata": {},
          "execution_count": 33
        }
      ]
    },
    {
      "cell_type": "code",
      "source": [
        "sns.countplot(x='label',data= df_test )"
      ],
      "metadata": {
        "id": "zAk7Bbrl7WCo",
        "outputId": "5dc0ea64-3974-46bd-89bc-679026eb2541",
        "colab": {
          "base_uri": "https://localhost:8080/",
          "height": 296
        }
      },
      "id": "zAk7Bbrl7WCo",
      "execution_count": null,
      "outputs": [
        {
          "output_type": "execute_result",
          "data": {
            "text/plain": [
              "<matplotlib.axes._subplots.AxesSubplot at 0x7fefa2b41ee0>"
            ]
          },
          "metadata": {},
          "execution_count": 34
        },
        {
          "output_type": "display_data",
          "data": {
            "text/plain": [
              "<Figure size 432x288 with 1 Axes>"
            ],
            "image/png": "[encoded data removed]"
          },
          "metadata": {
            "needs_background": "light"
          }
        }
      ]
    },
    {
      "cell_type": "markdown",
      "source": [
        "Make classes<=4---0\n",
        "Make classes>4---1\n",
        "so that it's 0,1, hence the sigmoid would work"
      ],
      "metadata": {
        "id": "q-iSGoB77Mns"
      },
      "id": "q-iSGoB77Mns"
    },
    {
      "cell_type": "code",
      "source": [
        "df_test[\"label\"].replace( {1:0, 2:0, 3:0, 4:0, 5:1, 6:1, 7:1, 8:1, 9:1 },inplace=True)"
      ],
      "metadata": {
        "id": "2WkDcRF97LhV"
      },
      "id": "2WkDcRF97LhV",
      "execution_count": null,
      "outputs": []
    },
    {
      "cell_type": "code",
      "source": [
        "sns.countplot(x='label',data= df_test )"
      ],
      "metadata": {
        "id": "92KTpG_E7fms",
        "outputId": "dc46c68d-7e2a-4f3d-a257-576645512c8e",
        "colab": {
          "base_uri": "https://localhost:8080/",
          "height": 296
        }
      },
      "id": "92KTpG_E7fms",
      "execution_count": null,
      "outputs": [
        {
          "output_type": "execute_result",
          "data": {
            "text/plain": [
              "<matplotlib.axes._subplots.AxesSubplot at 0x7fefa2bde670>"
            ]
          },
          "metadata": {},
          "execution_count": 36
        },
        {
          "output_type": "display_data",
          "data": {
            "text/plain": [
              "<Figure size 432x288 with 1 Axes>"
            ],
            "image/png": "[encoded data removed]"
          },
          "metadata": {
            "needs_background": "light"
          }
        }
      ]
    },
    {
      "cell_type": "code",
      "source": [
        "#drop duplicates\n",
        "df_train.drop_duplicates(inplace=True)\n",
        "print('duplicate values -> {}'.format(df_train.duplicated().sum()))\n",
        "# Drop the null values\n",
        "df_train.dropna(inplace=True)\n",
        "df_train.isnull().sum()"
      ],
      "metadata": {
        "id": "LvFy3wa_qUmN",
        "outputId": "4134318f-3190-4aa8-bc13-3615b24ff570",
        "colab": {
          "base_uri": "https://localhost:8080/"
        }
      },
      "id": "LvFy3wa_qUmN",
      "execution_count": null,
      "outputs": [
        {
          "output_type": "stream",
          "name": "stdout",
          "text": [
            "duplicate values -> 0\n"
          ]
        },
        {
          "output_type": "execute_result",
          "data": {
            "text/plain": [
              "label    0\n",
              "1x1      0\n",
              "1x2      0\n",
              "1x3      0\n",
              "1x4      0\n",
              "        ..\n",
              "28x24    0\n",
              "28x25    0\n",
              "28x26    0\n",
              "28x27    0\n",
              "28x28    0\n",
              "Length: 785, dtype: int64"
            ]
          },
          "metadata": {},
          "execution_count": 37
        }
      ]
    },
    {
      "cell_type": "code",
      "source": [
        "#split the features and target\n",
        "X_test=df_test.loc[:, df_test.columns != 'label']\n",
        "Y_test=df_test.iloc[:, 0]\n",
        "Y_test=pd.DataFrame(Y_test)\n",
        "Y_test.transpose().shape"
      ],
      "metadata": {
        "id": "hliLWKICrLiI",
        "outputId": "2df73dd0-017e-41ff-ef86-453b14fd27c8",
        "colab": {
          "base_uri": "https://localhost:8080/"
        }
      },
      "id": "hliLWKICrLiI",
      "execution_count": null,
      "outputs": [
        {
          "output_type": "execute_result",
          "data": {
            "text/plain": [
              "(1, 10000)"
            ]
          },
          "metadata": {},
          "execution_count": 38
        }
      ]
    },
    {
      "cell_type": "code",
      "source": [
        "X_test.shape"
      ],
      "metadata": {
        "id": "jk-klvO8yaAL",
        "outputId": "201051d1-83de-40f7-bb1b-e574a4b102a4",
        "colab": {
          "base_uri": "https://localhost:8080/"
        }
      },
      "id": "jk-klvO8yaAL",
      "execution_count": null,
      "outputs": [
        {
          "output_type": "execute_result",
          "data": {
            "text/plain": [
              "(10000, 784)"
            ]
          },
          "metadata": {},
          "execution_count": 39
        }
      ]
    },
    {
      "cell_type": "code",
      "source": [
        "Y_test.shape"
      ],
      "metadata": {
        "id": "kppuI6LUyYEu",
        "outputId": "6c64a314-9ed7-4936-c003-6cd37be4bc3d",
        "colab": {
          "base_uri": "https://localhost:8080/"
        }
      },
      "id": "kppuI6LUyYEu",
      "execution_count": null,
      "outputs": [
        {
          "output_type": "execute_result",
          "data": {
            "text/plain": [
              "(10000, 1)"
            ]
          },
          "metadata": {},
          "execution_count": 40
        }
      ]
    },
    {
      "cell_type": "code",
      "source": [
        "n_x_test=X_test.shape[1]\n",
        "n_y_test=Y_test.shape[1]\n"
      ],
      "metadata": {
        "id": "UMDsR8LprLdU"
      },
      "id": "UMDsR8LprLdU",
      "execution_count": null,
      "outputs": []
    },
    {
      "cell_type": "code",
      "source": [
        "# Print test accuracy\n",
        "parameters_test=initialize_parameters(n_x_test,4, n_y_test)\n",
        "Y_prediction_test = predict_1hidden_model (parameters_test,X_test.transpose())\n",
        "print ('MNIST test accuracy: %d' % abs(float((np.dot(Y_test.transpose(), Y_prediction_test.transpose()) + np.dot(1 - Y_test.transpose(), 1 - Y_prediction_test.transpose())) / float(Y_test.transpose().size) * 100)) + '%')\n",
        "\n"
      ],
      "metadata": {
        "id": "IIPAwQnFrLaE",
        "outputId": "e8318604-8792-414e-d963-fc1244669307",
        "colab": {
          "base_uri": "https://localhost:8080/"
        }
      },
      "id": "IIPAwQnFrLaE",
      "execution_count": null,
      "outputs": [
        {
          "output_type": "stream",
          "name": "stdout",
          "text": [
            "MNIST test accuracy: 54%\n"
          ]
        }
      ]
    },
    {
      "cell_type": "markdown",
      "source": [
        "# **Bonus:- L-layer Neural Network**"
      ],
      "metadata": {
        "id": "lNItBsHQB8My"
      },
      "id": "lNItBsHQB8My"
    },
    {
      "cell_type": "code",
      "execution_count": null,
      "metadata": {
        "deletable": false,
        "nbgrader": {
          "cell_type": "code",
          "checksum": "1773f5c69d941998dc8da88f4151e8d3",
          "grade": false,
          "grade_id": "cell-37b22e0664a4949e",
          "locked": false,
          "schema_version": 3,
          "solution": true,
          "task": false
        },
        "id": "j4ntg6Xc95-P"
      },
      "outputs": [],
      "source": [
        "\n",
        "def initialize_parameters_deep(layer_dims):\n",
        "    \"\"\"\n",
        "    Arguments:\n",
        "    layer_dims -- array containing the dimensions of each layer in the network\n",
        "\n",
        "    Returns:\n",
        "    parameters -- dictionary containing \"W1\", \"b1\", ..., \"WL\", \"bL\":\n",
        "                    Wl -- weight matrix of shape (layer_dims[l], layer_dims[l-1])\n",
        "                    bl -- bias vector of shape (layer_dims[l], 1)\n",
        "    \"\"\"\n",
        "    np.random.seed(3)\n",
        "    parameters = {}\n",
        "    L = len(layer_dims) # number of layers in the network\n",
        "\n",
        "    for l in range(1, L):\n",
        "\n",
        "        parameters['W' + str(l)] = np.random.randn(layer_dims[l], layer_dims[l-1]) * 0.01\n",
        "        parameters['b' + str(l)] = np.zeros((layer_dims[l], 1))\n",
        "\n",
        "    return parameters"
      ],
      "id": "j4ntg6Xc95-P"
    },
    {
      "cell_type": "code",
      "source": [
        "parameters = initialize_parameters_deep([5,4,3])\n",
        "\n",
        "print(\"W1 = \" + str(parameters[\"W1\"]))\n",
        "print(\"b1 = \" + str(parameters[\"b1\"]))\n",
        "print(\"W2 = \" + str(parameters[\"W2\"]))\n",
        "print(\"b2 = \" + str(parameters[\"b2\"]))"
      ],
      "metadata": {
        "colab": {
          "base_uri": "https://localhost:8080/"
        },
        "id": "ApzqCItBB72Z",
        "outputId": "aedd77ad-3353-460c-f464-a510e36c60ba"
      },
      "id": "ApzqCItBB72Z",
      "execution_count": null,
      "outputs": [
        {
          "output_type": "stream",
          "name": "stdout",
          "text": [
            "W1 = [[ 0.01788628  0.0043651   0.00096497 -0.01863493 -0.00277388]\n",
            " [-0.00354759 -0.00082741 -0.00627001 -0.00043818 -0.00477218]\n",
            " [-0.01313865  0.00884622  0.00881318  0.01709573  0.00050034]\n",
            " [-0.00404677 -0.0054536  -0.01546477  0.00982367 -0.01101068]]\n",
            "b1 = [[0.]\n",
            " [0.]\n",
            " [0.]\n",
            " [0.]]\n",
            "W2 = [[-0.01185047 -0.0020565   0.01486148  0.00236716]\n",
            " [-0.01023785 -0.00712993  0.00625245 -0.00160513]\n",
            " [-0.00768836 -0.00230031  0.00745056  0.01976111]]\n",
            "b2 = [[0.]\n",
            " [0.]\n",
            " [0.]]\n"
          ]
        }
      ]
    },
    {
      "cell_type": "markdown",
      "source": [
        "Forward Propagation:"
      ],
      "metadata": {
        "id": "hx8Q3hIH874B"
      },
      "id": "hx8Q3hIH874B"
    },
    {
      "cell_type": "code",
      "execution_count": null,
      "metadata": {
        "deletable": false,
        "nbgrader": {
          "cell_type": "code",
          "checksum": "770763ab229ee87e8f5dfd520428caa3",
          "grade": false,
          "grade_id": "cell-4d6e09486a53f4c4",
          "locked": false,
          "schema_version": 3,
          "solution": true,
          "task": false
        },
        "id": "mLnYeEIq95-T"
      },
      "outputs": [],
      "source": [
        "def linear_forward(A, W, b):\n",
        "    Z = np.dot(W , A ) + b\n",
        "    cache = (A, W, b)\n",
        "    return Z, cache"
      ],
      "id": "mLnYeEIq95-T"
    },
    {
      "cell_type": "code",
      "execution_count": null,
      "metadata": {
        "deletable": false,
        "nbgrader": {
          "cell_type": "code",
          "checksum": "f09e76f2a56c8ee77db3e89214a676b2",
          "grade": false,
          "grade_id": "cell-eb48903dd8e48a90",
          "locked": false,
          "schema_version": 3,
          "solution": true,
          "task": false
        },
        "id": "mif0pDEV95-W"
      },
      "outputs": [],
      "source": [
        "def linear_activation_forward(A_prev, W, b):\n",
        "        Z, linear_cache = linear_forward(A_prev, W, b)\n",
        "        A, activation_cache = sigmoid(Z)\n",
        "        cache = (linear_cache, activation_cache)\n",
        "        return A, cache"
      ],
      "id": "mif0pDEV95-W"
    },
    {
      "cell_type": "markdown",
      "source": [
        "# A^[L]=σ(Z^[L])=σ(W^[L]A^[L−1]+b^[L])"
      ],
      "metadata": {
        "id": "HTeZLr5rJmfH"
      },
      "id": "HTeZLr5rJmfH"
    },
    {
      "cell_type": "code",
      "execution_count": null,
      "metadata": {
        "deletable": false,
        "nbgrader": {
          "cell_type": "code",
          "checksum": "a0071c19f83d4b851dc8a67e66545262",
          "grade": false,
          "grade_id": "cell-9a8ec52ec8f6e04a",
          "locked": false,
          "schema_version": 3,
          "solution": true,
          "task": false
        },
        "id": "uwFg5mMO95-Y"
      },
      "outputs": [],
      "source": [
        "def L_model_forward(X, parameters):\n",
        "    caches = []\n",
        "    A = X\n",
        "    L = len(parameters) // 2                  # number of layers in the neural network\n",
        "    AL, cache = linear_activation_forward(A , parameters['W' + str(L)], parameters['b' + str(L)])\n",
        "    caches.append(cache)\n",
        "\n",
        "    return AL, caches"
      ],
      "id": "uwFg5mMO95-Y"
    },
    {
      "cell_type": "markdown",
      "source": [
        "Backward Propagation Module:"
      ],
      "metadata": {
        "id": "-sbjau3Q-8x-"
      },
      "id": "-sbjau3Q-8x-"
    },
    {
      "cell_type": "markdown",
      "source": [
        "The three outputs $(dW^{[l]}, db^{[l]}, dA^{[l-1]})$ are computed using the input $dZ^{[l]}$.\n",
        "\n",
        "Here are the formulas you need:\n",
        "$$ dW^{[l]} = \\frac{\\partial \\mathcal{J} }{\\partial W^{[l]}} = \\frac{1}{m} dZ^{[l]} A^{[l-1] T} $$\n",
        "$$ db^{[l]} = \\frac{\\partial \\mathcal{J} }{\\partial b^{[l]}} = \\frac{1}{m} \\sum_{i = 1}^{m} dZ^{[l](i)}$$\n",
        "$$ dA^{[l-1]} = \\frac{\\partial \\mathcal{L} }{\\partial A^{[l-1]}} = W^{[l] T} dZ^{[l]} $$\n",
        "\n",
        "\n",
        "$A^{[l-1] T}$ is the transpose of $A^{[l-1]}$."
      ],
      "metadata": {
        "id": "XXImwaYWKH0s"
      },
      "id": "XXImwaYWKH0s"
    },
    {
      "cell_type": "code",
      "execution_count": null,
      "metadata": {
        "deletable": false,
        "nbgrader": {
          "cell_type": "code",
          "checksum": "137d11e28068848079eb6c315a59f2be",
          "grade": false,
          "grade_id": "cell-418e156a9203fe72",
          "locked": false,
          "schema_version": 3,
          "solution": true,
          "task": false
        },
        "id": "0GdgLHVw95-c"
      },
      "outputs": [],
      "source": [
        "# linear_backward\n",
        "def linear_backward(dZ, cache):\n",
        "    \"\"\"\n",
        "    Arguments:\n",
        "    dZ -- Gradient of the cost with respect to the linear output (of current layer l)\n",
        "    cache -- tuple of values (A_prev, W, b) coming from the forward propagation in the current layer\n",
        "\n",
        "    Returns:\n",
        "    dA_prev -- Gradient of the cost with respect to the activation (of the previous layer l-1)\n",
        "    dW -- Gradient of the cost with respect to W (current layer l), same shape as W\n",
        "    db -- Gradient of the cost with respect to b (current layer l), same shape as b\n",
        "    \"\"\"\n",
        "    A_prev, W, b = cache\n",
        "    m = A_prev.shape[1]\n",
        "    dW = 1/m * np.dot(dZ , A_prev.T)\n",
        "    db = 1/m*np.sum(dZ , axis = 1)\n",
        "    dA_prev = np.dot(W.T, dZ)\n",
        "\n",
        "    return dA_prev, dW, db"
      ],
      "id": "0GdgLHVw95-c"
    },
    {
      "cell_type": "code",
      "source": [
        "def sigmoid_backward(dA, cache):\n",
        "    Z = cache\n",
        "    s = 1/(1+np.exp(-Z))\n",
        "    dZ = dA * s * (1-s)\n",
        "    return dZ"
      ],
      "metadata": {
        "id": "qGMYxzUwBOIw"
      },
      "id": "qGMYxzUwBOIw",
      "execution_count": null,
      "outputs": []
    },
    {
      "cell_type": "markdown",
      "source": [
        "- Linear-Activation Backward\n",
        " $$dZ^{[l]} = dA^{[l]} * g'(Z^{[l]}). $$  "
      ],
      "metadata": {
        "id": "sDtqePx2KfaX"
      },
      "id": "sDtqePx2KfaX"
    },
    {
      "cell_type": "code",
      "execution_count": null,
      "metadata": {
        "deletable": false,
        "nbgrader": {
          "cell_type": "code",
          "checksum": "3497ac4aa36a57278edbfb84a44e1d72",
          "grade": false,
          "grade_id": "cell-6c59263d69168c17",
          "locked": false,
          "schema_version": 3,
          "solution": true,
          "task": false
        },
        "id": "FfzKwhk495-e"
      },
      "outputs": [],
      "source": [
        "# linear_activation_backward\n",
        "def linear_activation_backward(dA, cache):\n",
        "    linear_cache, activation_cache = cache\n",
        "    dZ = sigmoid_backward(dA, activation_cache)\n",
        "    dA_prev, dW, db = linear_backward(dZ, linear_cache)\n",
        "\n",
        "    return dA_prev, dW, db"
      ],
      "id": "FfzKwhk495-e"
    },
    {
      "cell_type": "code",
      "execution_count": null,
      "metadata": {
        "deletable": false,
        "nbgrader": {
          "cell_type": "code",
          "checksum": "d3e23a2b5f3b33e264a122b3c4b0d760",
          "grade": false,
          "grade_id": "cell-9eec96b6d83ff809",
          "locked": false,
          "schema_version": 3,
          "solution": true,
          "task": false
        },
        "id": "p8839tCg95-g"
      },
      "outputs": [],
      "source": [
        "# L_model_backward\n",
        "def L_model_backward(AL, Y, caches):\n",
        "    grads = {}\n",
        "    L = len(caches) # the number of layers\n",
        "    m = AL.shape[1]\n",
        "    Y = Y.reshape(AL.shape)\n",
        "    dAL = - (np.divide(Y, AL) - np.divide(1 - Y, 1 - AL))\n",
        "    current_cache = caches[L - 1]\n",
        "    dA_prev_temp, dW_temp, db_temp = linear_activation_backward(dAL, current_cache)\n",
        "    grads[\"dA\" + str(L-1)] = dA_prev_temp\n",
        "    grads[\"dW\" + str(L)] = dW_temp\n",
        "    grads[\"db\" + str(L)] = db_temp\n",
        "\n",
        "    return grads"
      ],
      "id": "p8839tCg95-g"
    },
    {
      "cell_type": "markdown",
      "source": [
        "# Update Parameters:"
      ],
      "metadata": {
        "id": "loBBDwG5Bztg"
      },
      "id": "loBBDwG5Bztg"
    },
    {
      "cell_type": "code",
      "execution_count": null,
      "metadata": {
        "deletable": false,
        "nbgrader": {
          "cell_type": "code",
          "checksum": "a497191ef80b70967006d707cac91c20",
          "grade": false,
          "grade_id": "cell-3cb535f16aba3339",
          "locked": false,
          "schema_version": 3,
          "solution": true,
          "task": false
        },
        "id": "FNp1Lh_495-i"
      },
      "outputs": [],
      "source": [
        "def update_parameters(params, grads, learning_rate):\n",
        "    parameters = params.copy()\n",
        "    L = len(parameters) // 2 # number of layers in the neural network\n",
        "    for l in range(L):\n",
        "        parameters[\"W\" + str(l+1)] = parameters[\"W\" + str(l+1)] - learning_rate * grads[\"dW\" + str(l + 1)]\n",
        "        parameters[\"b\" + str(l+1)] = parameters[\"b\" + str(l+1)] - learning_rate * grads[\"db\" + str(l + 1)]\n",
        "    return parameters"
      ],
      "id": "FNp1Lh_495-i"
    },
    {
      "cell_type": "markdown",
      "id": "ff0e3351",
      "metadata": {
        "id": "ff0e3351"
      },
      "source": [
        "## Refrence\n",
        "https://becominghuman.ai/understanding-neural-networks-2-the-math-of-neural-networks-in-3-equations-6085fd3f09df\n",
        "https://towardsdatascience.com/how-to-define-a-neural-network-as-a-mathematical-function-f7b820cde3f\n"
      ]
    }
  ],
  "metadata": {
    "kernelspec": {
      "display_name": "Python 3 (ipykernel)",
      "language": "python",
      "name": "python3"
    },
    "language_info": {
      "codemirror_mode": {
        "name": "ipython",
        "version": 3
      },
      "file_extension": ".py",
      "mimetype": "text/x-python",
      "name": "python",
      "nbconvert_exporter": "python",
      "pygments_lexer": "ipython3",
      "version": "3.8.12"
    },
    "colab": {
      "provenance": [],
      "include_colab_link": true
    },
    "accelerator": "GPU",
    "gpuClass": "standard"
  },
  "nbformat": 4,
  "nbformat_minor": 5
}